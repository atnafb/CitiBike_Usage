{
 "cells": [
  {
   "cell_type": "markdown",
   "id": "604ac3ce-f179-484d-a354-218cfb0777b6",
   "metadata": {},
   "source": [
    "### CitiBike Data Extraction from online database"
   ]
  },
  {
   "cell_type": "code",
   "execution_count": 3,
   "id": "4971f407-5507-44f9-8d78-a08b9ea43f31",
   "metadata": {},
   "outputs": [],
   "source": [
    "import pandas as pd\n",
    "import requests \n",
    "import zipfile\n",
    "import io"
   ]
  },
  {
   "cell_type": "code",
   "execution_count": null,
   "id": "e788a4d1-ac0f-40a3-a3f2-bb8a52730287",
   "metadata": {},
   "outputs": [],
   "source": []
  }
 ],
 "metadata": {
  "kernelspec": {
   "display_name": "Python 3 (ipykernel)",
   "language": "python",
   "name": "python3"
  },
  "language_info": {
   "codemirror_mode": {
    "name": "ipython",
    "version": 3
   },
   "file_extension": ".py",
   "mimetype": "text/x-python",
   "name": "python",
   "nbconvert_exporter": "python",
   "pygments_lexer": "ipython3",
   "version": "3.12.4"
  }
 },
 "nbformat": 4,
 "nbformat_minor": 5
}
