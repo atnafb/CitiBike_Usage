{
 "cells": [
  {
   "cell_type": "markdown",
   "id": "604ac3ce-f179-484d-a354-218cfb0777b6",
   "metadata": {},
   "source": [
    "### CitiBike Data Extraction from online database"
   ]
  },
  {
   "cell_type": "code",
   "execution_count": 17,
   "id": "4971f407-5507-44f9-8d78-a08b9ea43f31",
   "metadata": {},
   "outputs": [],
   "source": [
    "import pandas as pd\n",
    "import requests \n",
    "import zipfile\n",
    "import io"
   ]
  },
  {
   "cell_type": "code",
   "execution_count": 18,
   "id": "e788a4d1-ac0f-40a3-a3f2-bb8a52730287",
   "metadata": {},
   "outputs": [],
   "source": [
    "# URLs for June 2013 and June 2019 data (Citi Bike archive)\n",
    "urls = {\n",
    "    \"2013\": \"https://s3.amazonaws.com/tripdata/2013-citibike-tripdata.zip\",\n",
    "    \"2019\": \"https://s3.amazonaws.com/tripdata/2019-citibike-tripdata.zip\"\n",
    "}"
   ]
  },
  {
   "cell_type": "code",
   "execution_count": 19,
   "id": "12d73a04-b7ef-4400-b2b8-2c460e01f000",
   "metadata": {},
   "outputs": [
    {
     "data": {
      "text/plain": [
       "'def download_zip(url, filename):\\n    response = requests.get(url, stream=True)\\n    if response.status_code == 200:\\n        with open(filename, \\'wb\\') as file:\\n            for chunk in response.iter_content(chunk_size=1024):\\n                file.write(chunk)\\n                print(f\\'Downloaded: {filename}\\')\\n    else:\\n        print(f\\'Failed to download {filename}\\')\\n\\n# download both files\\nfor year, url in urls.items():\\n    download_zip(url, f\"{year}-citibike-tripdata.zip\")'"
      ]
     },
     "execution_count": 19,
     "metadata": {},
     "output_type": "execute_result"
    }
   ],
   "source": [
    "# fucntion to download and save the 2013 and 2019 ZIP file \n",
    "# download the file in chunck to prevent memory overload \n",
    "# comment out the below funtion to prevent memeory overload \n",
    "\n",
    "\"\"\"def download_zip(url, filename):\n",
    "    response = requests.get(url, stream=True)\n",
    "    if response.status_code == 200:\n",
    "        with open(filename, 'wb') as file:\n",
    "            for chunk in response.iter_content(chunk_size=1024):\n",
    "                file.write(chunk)\n",
    "                print(f'Downloaded: {filename}')\n",
    "    else:\n",
    "        print(f'Failed to download {filename}')\n",
    "\n",
    "# download both files\n",
    "for year, url in urls.items():\n",
    "    download_zip(url, f\"{year}-citibike-tripdata.zip\")\"\"\""
   ]
  },
  {
   "cell_type": "code",
   "execution_count": null,
   "id": "1557731c-2e86-4326-8c35-29d0f974a7b7",
   "metadata": {},
   "outputs": [],
   "source": []
  }
 ],
 "metadata": {
  "kernelspec": {
   "display_name": "Python 3 (ipykernel)",
   "language": "python",
   "name": "python3"
  },
  "language_info": {
   "codemirror_mode": {
    "name": "ipython",
    "version": 3
   },
   "file_extension": ".py",
   "mimetype": "text/x-python",
   "name": "python",
   "nbconvert_exporter": "python",
   "pygments_lexer": "ipython3",
   "version": "3.12.4"
  }
 },
 "nbformat": 4,
 "nbformat_minor": 5
}
