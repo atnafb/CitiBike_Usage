{
 "cells": [
  {
   "cell_type": "markdown",
   "id": "aaad1f9a-387c-4199-831f-d6796b78388b",
   "metadata": {},
   "source": [
    "# EXTRACT"
   ]
  },
  {
   "cell_type": "markdown",
   "id": "604ac3ce-f179-484d-a354-218cfb0777b6",
   "metadata": {},
   "source": [
    "### CitiBike Data Extraction from Online Database to Analyze the Gender Perspective of City Bike Usage "
   ]
  },
  {
   "cell_type": "code",
   "execution_count": 46,
   "id": "4971f407-5507-44f9-8d78-a08b9ea43f31",
   "metadata": {},
   "outputs": [],
   "source": [
    "import pandas as pd\n",
    "import requests \n",
    "import zipfile\n",
    "import io"
   ]
  },
  {
   "cell_type": "code",
   "execution_count": 48,
   "id": "e788a4d1-ac0f-40a3-a3f2-bb8a52730287",
   "metadata": {},
   "outputs": [],
   "source": [
    "# URLs for June 2013 and June 2019 data (Citi Bike archive)\n",
    "urls = {\n",
    "    \"2013\": \"https://s3.amazonaws.com/tripdata/2013-citibike-tripdata.zip\",\n",
    "    \"2019\": \"https://s3.amazonaws.com/tripdata/2019-citibike-tripdata.zip\"\n",
    "}"
   ]
  },
  {
   "cell_type": "code",
   "execution_count": 19,
   "id": "12d73a04-b7ef-4400-b2b8-2c460e01f000",
   "metadata": {},
   "outputs": [
    {
     "data": {
      "text/plain": [
       "'def download_zip(url, filename):\\n    response = requests.get(url, stream=True)\\n    if response.status_code == 200:\\n        with open(filename, \\'wb\\') as file:\\n            for chunk in response.iter_content(chunk_size=1024):\\n                file.write(chunk)\\n                print(f\\'Downloaded: {filename}\\')\\n    else:\\n        print(f\\'Failed to download {filename}\\')\\n\\n# download both files\\nfor year, url in urls.items():\\n    download_zip(url, f\"{year}-citibike-tripdata.zip\")'"
      ]
     },
     "execution_count": 19,
     "metadata": {},
     "output_type": "execute_result"
    }
   ],
   "source": [
    "# fucntion to download and save the 2013 and 2019 ZIP file \n",
    "# download the file in chunck to prevent memory overload \n",
    "# comment out the below funtion to prevent memeory overload \n",
    "\n",
    "\"\"\"def download_zip(url, filename):\n",
    "    response = requests.get(url, stream=True)\n",
    "    if response.status_code == 200:\n",
    "        with open(filename, 'wb') as file:\n",
    "            for chunk in response.iter_content(chunk_size=1024):\n",
    "                file.write(chunk)\n",
    "                print(f'Downloaded: {filename}')\n",
    "    else:\n",
    "        print(f'Failed to download {filename}')\n",
    "\n",
    "# download both files\n",
    "for year, url in urls.items():\n",
    "    download_zip(url, f\"{year}-citibike-tripdata.zip\")\"\"\""
   ]
  },
  {
   "cell_type": "markdown",
   "id": "bb12b830-f2c1-4318-9c37-585fb0c2d8e3",
   "metadata": {},
   "source": [
    "### Analyzing the ZIP file and Checking which CSV File to Extract "
   ]
  },
  {
   "cell_type": "code",
   "execution_count": 20,
   "id": "1557731c-2e86-4326-8c35-29d0f974a7b7",
   "metadata": {},
   "outputs": [
    {
     "name": "stdout",
     "output_type": "stream",
     "text": [
      "Files in 2013-citibike-tripdata.zip:\n",
      "2013-citibike-tripdata/\n",
      "2013-citibike-tripdata/4_April/\n",
      "2013-citibike-tripdata/12_December/\n",
      "2013-citibike-tripdata/.DS_Store\n",
      "__MACOSX/2013-citibike-tripdata/._.DS_Store\n",
      "2013-citibike-tripdata/201309-citibike-tripdata.csv\n",
      "__MACOSX/2013-citibike-tripdata/._201309-citibike-tripdata.csv\n",
      "2013-citibike-tripdata/11_November/\n",
      "2013-citibike-tripdata/7_July/\n",
      "2013-citibike-tripdata/201311-citibike-tripdata.csv\n",
      "__MACOSX/2013-citibike-tripdata/._201311-citibike-tripdata.csv\n",
      "2013-citibike-tripdata/201307-citibike-tripdata.csv\n",
      "__MACOSX/2013-citibike-tripdata/._201307-citibike-tripdata.csv\n",
      "2013-citibike-tripdata/10_October/\n",
      "2013-citibike-tripdata/9_September/\n",
      "2013-citibike-tripdata/8_August/\n",
      "2013-citibike-tripdata/6_June/\n",
      "2013-citibike-tripdata/3_March/\n",
      "2013-citibike-tripdata/201308-citibike-tripdata.csv\n",
      "__MACOSX/2013-citibike-tripdata/._201308-citibike-tripdata.csv\n",
      "2013-citibike-tripdata/1_January/\n",
      "2013-citibike-tripdata/201306-citibike-tripdata.csv\n",
      "__MACOSX/2013-citibike-tripdata/._201306-citibike-tripdata.csv\n",
      "2013-citibike-tripdata/201310-citibike-tripdata.csv\n",
      "__MACOSX/2013-citibike-tripdata/._201310-citibike-tripdata.csv\n",
      "2013-citibike-tripdata/2_February/\n",
      "2013-citibike-tripdata/5_May/\n",
      "2013-citibike-tripdata/201312-citibike-tripdata.csv\n",
      "__MACOSX/2013-citibike-tripdata/._201312-citibike-tripdata.csv\n",
      "2013-citibike-tripdata/12_December/201312-citibike-tripdata_1.csv\n",
      "2013-citibike-tripdata/11_November/201311-citibike-tripdata_1.csv\n",
      "2013-citibike-tripdata/7_July/201307-citibike-tripdata_1.csv\n",
      "2013-citibike-tripdata/10_October/201310-citibike-tripdata_2.csv\n",
      "2013-citibike-tripdata/10_October/201310-citibike-tripdata_1.csv\n",
      "2013-citibike-tripdata/9_September/201309-citibike-tripdata_2.csv\n",
      "2013-citibike-tripdata/9_September/201309-citibike-tripdata_1.csv\n",
      "2013-citibike-tripdata/8_August/201308-citibike-tripdata_1.csv\n",
      "2013-citibike-tripdata/8_August/201308-citibike-tripdata_2.csv\n",
      "2013-citibike-tripdata/6_June/201306-citibike-tripdata_1.csv\n",
      "__MACOSX/2013-citibike-tripdata/6_June/._201306-citibike-tripdata_1.csv\n",
      "--------------------\n",
      "Files in 2019-citibike-tripdata.zip:\n",
      "2019-citibike-tripdata/\n",
      "2019-citibike-tripdata/4_April/\n",
      "2019-citibike-tripdata/12_December/\n",
      "2019-citibike-tripdata/.DS_Store\n",
      "__MACOSX/2019-citibike-tripdata/._.DS_Store\n",
      "2019-citibike-tripdata/11_November/\n",
      "2019-citibike-tripdata/7_July/\n",
      "2019-citibike-tripdata/10_October/\n",
      "2019-citibike-tripdata/9_September/\n",
      "2019-citibike-tripdata/8_August/\n",
      "2019-citibike-tripdata/6_June/\n",
      "2019-citibike-tripdata/3_March/\n",
      "2019-citibike-tripdata/1_January/\n",
      "2019-citibike-tripdata/2_February/\n",
      "2019-citibike-tripdata/5_May/\n",
      "2019-citibike-tripdata/4_April/201904-citibike-tripdata_2.csv\n",
      "2019-citibike-tripdata/4_April/201904-citibike-tripdata_1.csv\n",
      "2019-citibike-tripdata/12_December/201912-citibike-tripdata_1.csv\n",
      "2019-citibike-tripdata/11_November/201911-citibike-tripdata_1.csv\n",
      "2019-citibike-tripdata/11_November/201911-citibike-tripdata_2.csv\n",
      "2019-citibike-tripdata/7_July/201907-citibike-tripdata_1.csv\n",
      "2019-citibike-tripdata/7_July/201907-citibike-tripdata_3.csv\n",
      "2019-citibike-tripdata/7_July/201907-citibike-tripdata_2.csv\n",
      "2019-citibike-tripdata/10_October/201910-citibike-tripdata_3.csv\n",
      "2019-citibike-tripdata/10_October/201910-citibike-tripdata_2.csv\n",
      "2019-citibike-tripdata/10_October/201910-citibike-tripdata_1.csv\n",
      "2019-citibike-tripdata/9_September/201909-citibike-tripdata_3.csv\n",
      "2019-citibike-tripdata/9_September/201909-citibike-tripdata_2.csv\n",
      "2019-citibike-tripdata/9_September/201909-citibike-tripdata_1.csv\n",
      "2019-citibike-tripdata/8_August/201908-citibike-tripdata_1.csv\n",
      "2019-citibike-tripdata/8_August/201908-citibike-tripdata_2.csv\n",
      "2019-citibike-tripdata/8_August/201908-citibike-tripdata_3.csv\n",
      "__MACOSX/2019-citibike-tripdata/8_August/._201908-citibike-tripdata_3.csv\n",
      "2019-citibike-tripdata/6_June/201906-citibike-tripdata_2.csv\n",
      "2019-citibike-tripdata/6_June/201906-citibike-tripdata_3.csv\n",
      "2019-citibike-tripdata/6_June/201906-citibike-tripdata_1.csv\n",
      "2019-citibike-tripdata/3_March/201903-citibike-tripdata_1.csv\n",
      "2019-citibike-tripdata/3_March/201903-citibike-tripdata_2.csv\n",
      "2019-citibike-tripdata/1_January/201901-citibike-tripdata_1.csv\n",
      "2019-citibike-tripdata/2_February/201902-citibike-tripdata_1.csv\n",
      "2019-citibike-tripdata/5_May/201905-citibike-tripdata_1.csv\n",
      "2019-citibike-tripdata/5_May/201905-citibike-tripdata_2.csv\n",
      "--------------------\n"
     ]
    }
   ],
   "source": [
    "# Function to list the files inside the ZIP file without extracting them\n",
    "def list_files_in_zip(zip_filename):\n",
    "    with zipfile.ZipFile(zip_filename, 'r') as zip_ref:\n",
    "        # List all the contents in the ZIP file\n",
    "        file_list = zip_ref.namelist()\n",
    "        return file_list\n",
    "\n",
    "zip_files = [\"2013-citibike-tripdata.zip\", \"2019-citibike-tripdata.zip\"]\n",
    "\n",
    "# Iterate over the ZIP files and print the file names inside\n",
    "for zip_filename in zip_files:\n",
    "    print(f\"Files in {zip_filename}:\")\n",
    "    file_names = list_files_in_zip(zip_filename)\n",
    "    for file_name in file_names:\n",
    "        print(file_name)\n",
    "    print('--------------------')  "
   ]
  },
  {
   "cell_type": "markdown",
   "id": "2a50c92f-60a2-459f-8873-39deb115964f",
   "metadata": {},
   "source": [
    "### Merging the June 2019 CSV Files "
   ]
  },
  {
   "cell_type": "code",
   "execution_count": 40,
   "id": "9c8b2230-0e65-4b8f-8cb5-46ab076fd606",
   "metadata": {},
   "outputs": [
    {
     "name": "stdout",
     "output_type": "stream",
     "text": [
      "   tripduration                 starttime                  stoptime  \\\n",
      "0           330  2019-06-01 00:00:01.5000  2019-06-01 00:05:31.7600   \n",
      "1           830  2019-06-01 00:00:04.2400  2019-06-01 00:13:55.1470   \n",
      "2           380  2019-06-01 00:00:06.0190  2019-06-01 00:06:26.7790   \n",
      "3          1155  2019-06-01 00:00:06.7760  2019-06-01 00:19:22.5380   \n",
      "4          1055  2019-06-01 00:00:07.5200  2019-06-01 00:17:42.5580   \n",
      "\n",
      "   start station id       start station name  start station latitude  \\\n",
      "0              3602           31 Ave & 34 St               40.763154   \n",
      "1              3054  Greene Ave & Throop Ave               40.689493   \n",
      "2               229           Great Jones St               40.727434   \n",
      "3              3771  McKibbin St & Bogart St               40.706237   \n",
      "4               441          E 52 St & 2 Ave               40.756014   \n",
      "\n",
      "   start station longitude  end station id       end station name  \\\n",
      "0               -73.920827            3570         35 Ave & 37 St   \n",
      "1               -73.942061            3781  Greene Av & Myrtle Av   \n",
      "2               -73.993790             326        E 11 St & 1 Ave   \n",
      "3               -73.933871            3016      Kent Ave & N 7 St   \n",
      "4               -73.967416            3159     W 67 St & Broadway   \n",
      "\n",
      "   end station latitude  end station longitude  bikeid    usertype  \\\n",
      "0             40.755733             -73.923661   20348  Subscriber   \n",
      "1             40.698568             -73.918877   34007  Subscriber   \n",
      "2             40.729538             -73.984267   20587  Subscriber   \n",
      "3             40.720368             -73.961651   33762  Subscriber   \n",
      "4             40.774925             -73.982666   31290  Subscriber   \n",
      "\n",
      "   birth year  gender  \n",
      "0        1992       1  \n",
      "1        1987       2  \n",
      "2        1990       2  \n",
      "3        1987       1  \n",
      "4        1973       1  \n"
     ]
    }
   ],
   "source": [
    "# Merge the 2019 June csv files \n",
    "zip_file = \"2019-citibike-tripdata.zip\"\n",
    "csv_files_2019 = {\n",
    "    \"2019_1\": \"2019-citibike-tripdata/6_June/201906-citibike-tripdata_1.csv\",\n",
    "    \"2019_2\": \"2019-citibike-tripdata/6_June/201906-citibike-tripdata_2.csv\",\n",
    "    \"2019_3\": \"2019-citibike-tripdata/6_June/201906-citibike-tripdata_3.csv\"\n",
    "}\n",
    "\n",
    "# Function to extract and read CSV file from ZIP\n",
    "def read_csv_from_zip(zip_filename, csv_filename):\n",
    "    with zipfile.ZipFile(zip_filename, 'r') as zip_ref:\n",
    "        with zip_ref.open(csv_filename) as file:\n",
    "            return pd.read_csv(file)\n",
    "\n",
    "# Read CSV files and store them in a list\n",
    "dfs_june_2019 = []\n",
    "for key, csv_file in csv_files_2019.items():\n",
    "    df = read_csv_from_zip(zip_file, csv_file)\n",
    "    dfs_june_2019.append(df)\n",
    "\n",
    "# Concatenate all DataFrames into one\n",
    "june_merged_df_2019 = pd.concat(dfs_june_2019, ignore_index=True)\n",
    "\n",
    "# Save the merged DataFrame to a CSV file\n",
    "june_merged_df_2019.to_csv(\"2019_citibike_june_tripdata_merged.csv\", index=False)\n",
    "\n",
    "# Check the first few rows of the merged DataFrame\n",
    "print(june_merged_df_2019.head())"
   ]
  },
  {
   "cell_type": "code",
   "execution_count": 41,
   "id": "6703d209-a51a-4787-8540-14fb56b17a92",
   "metadata": {},
   "outputs": [
    {
     "name": "stdout",
     "output_type": "stream",
     "text": [
      "tripduration               0.0\n",
      "starttime                  0.0\n",
      "stoptime                   0.0\n",
      "start station id           0.0\n",
      "start station name         0.0\n",
      "start station latitude     0.0\n",
      "start station longitude    0.0\n",
      "end station id             0.0\n",
      "end station name           0.0\n",
      "end station latitude       0.0\n",
      "end station longitude      0.0\n",
      "bikeid                     0.0\n",
      "usertype                   0.0\n",
      "birth year                 0.0\n",
      "gender                     0.0\n",
      "dtype: float64\n"
     ]
    }
   ],
   "source": [
    "# Calculate the percentage of null values for each column in the merged DataFrame\n",
    "null_percentage = june_merged_df_2019.isnull().mean() * 100\n",
    "print(null_percentage)"
   ]
  },
  {
   "cell_type": "markdown",
   "id": "106c0907-f32a-4148-8d61-3c8ee62c8ce3",
   "metadata": {},
   "source": [
    "### Extracrting the June 2013 CSV File for cleaning up "
   ]
  },
  {
   "cell_type": "code",
   "execution_count": 42,
   "id": "bb99372a-ed1e-4924-b5d9-8d256e16a305",
   "metadata": {},
   "outputs": [
    {
     "name": "stdout",
     "output_type": "stream",
     "text": [
      "   tripduration            starttime             stoptime  start station id  \\\n",
      "0           695  2013-06-01 00:00:01  2013-06-01 00:11:36               444   \n",
      "1           693  2013-06-01 00:00:08  2013-06-01 00:11:41               444   \n",
      "2          2059  2013-06-01 00:00:44  2013-06-01 00:35:03               406   \n",
      "3           123  2013-06-01 00:01:04  2013-06-01 00:03:07               475   \n",
      "4          1521  2013-06-01 00:01:22  2013-06-01 00:26:43              2008   \n",
      "\n",
      "       start station name  start station latitude  start station longitude  \\\n",
      "0      Broadway & W 24 St               40.742354               -73.989151   \n",
      "1      Broadway & W 24 St               40.742354               -73.989151   \n",
      "2  Hicks St & Montague St               40.695128               -73.995951   \n",
      "3     E 15 St & Irving Pl               40.735243               -73.987586   \n",
      "4   Little West St & 1 Pl               40.705693               -74.016777   \n",
      "\n",
      "   end station id        end station name  end station latitude  \\\n",
      "0           434.0         9 Ave & W 18 St             40.743174   \n",
      "1           434.0         9 Ave & W 18 St             40.743174   \n",
      "2           406.0  Hicks St & Montague St             40.695128   \n",
      "3           262.0         Washington Park             40.691782   \n",
      "4           310.0     State St & Smith St             40.689269   \n",
      "\n",
      "   end station longitude  bikeid    usertype  birth year  gender  \n",
      "0             -74.003664   19678  Subscriber      1983.0       1  \n",
      "1             -74.003664   16649  Subscriber      1984.0       1  \n",
      "2             -73.995951   19599    Customer         NaN       0  \n",
      "3             -73.973730   16352  Subscriber      1960.0       1  \n",
      "4             -73.989129   15567  Subscriber      1983.0       1  \n"
     ]
    }
   ],
   "source": [
    "# extract read the 2013 June csv file from the zip and clean it  \n",
    "zip_file_2013 = \"2013-citibike-tripdata.zip\"\n",
    "csv_file_2013 = \"2013-citibike-tripdata/6_June/201306-citibike-tripdata_1.csv\"\n",
    "\n",
    "# Function to read a CSV file from a ZIP archive\n",
    "def read_csv_from_zip(zip_filename, csv_filename):\n",
    "    with zipfile.ZipFile(zip_filename, 'r') as zip_ref:\n",
    "        with zip_ref.open(csv_filename) as file:\n",
    "            df = pd.read_csv(file)\n",
    "            return df\n",
    "\n",
    "# Extract the 2013 June data\n",
    "df_2013_june = read_csv_from_zip(zip_file_2013, csv_file_2013)\n",
    "df_2013_june.to_csv(\"2013_citibike_june_tripdata.csv\", index=False)\n",
    "print(df_2013_june.head())"
   ]
  },
  {
   "cell_type": "code",
   "execution_count": 43,
   "id": "92e5e89d-c38a-47bf-9387-665c34a5a24f",
   "metadata": {},
   "outputs": [
    {
     "name": "stdout",
     "output_type": "stream",
     "text": [
      "tripduration                0.000000\n",
      "starttime                   0.000000\n",
      "stoptime                    0.000000\n",
      "start station id            0.000000\n",
      "start station name          0.000000\n",
      "start station latitude      0.000000\n",
      "start station longitude     0.000000\n",
      "end station id              3.126001\n",
      "end station name            3.126001\n",
      "end station latitude        3.126001\n",
      "end station longitude       3.126001\n",
      "bikeid                      0.000000\n",
      "usertype                    0.000000\n",
      "birth year                 41.599403\n",
      "gender                      0.000000\n",
      "dtype: float64\n"
     ]
    }
   ],
   "source": [
    "# Calculate the percentage of null values in June 2013 data \n",
    "null_percentage = df_2013_june.isnull().mean() * 100\n",
    "print(null_percentage)"
   ]
  },
  {
   "cell_type": "markdown",
   "id": "7aa8da1d-b7b0-4e94-964b-b7a9cf6f6183",
   "metadata": {},
   "source": [
    "#### Due to the presence of numerous null values in the June 2013 dataset, which could hinder analysis, the June 2016 dataset will be downloaded and extracted to provide more comprehensive data."
   ]
  },
  {
   "cell_type": "code",
   "execution_count": 50,
   "id": "fbc4c6a3-ffa2-4b21-9958-f3eaffbd6f13",
   "metadata": {},
   "outputs": [
    {
     "data": {
      "text/plain": [
       "'urls = {\\n    \"2016\": \"https://s3.amazonaws.com/tripdata/2016-citibike-tripdata.zip\"\\n}\\ndef download_zip(url, filename):\\n    response = requests.get(url, stream=True)\\n    if response.status_code == 200:\\n        with open(filename, \\'wb\\') as file:\\n            for chunk in response.iter_content(chunk_size=1024):\\n                file.write(chunk)\\n                print(f\\'Downloaded: {filename}\\')\\n    else:\\n        print(f\\'Failed to download {filename}\\')\\n\\nfor year, url in urls.items():\\n    download_zip(url, f\"{year}-citibike-tripdata.zip\")'"
      ]
     },
     "execution_count": 50,
     "metadata": {},
     "output_type": "execute_result"
    }
   ],
   "source": [
    "\"\"\"urls = {\n",
    "    \"2016\": \"https://s3.amazonaws.com/tripdata/2016-citibike-tripdata.zip\"\n",
    "}\n",
    "def download_zip(url, filename):\n",
    "    response = requests.get(url, stream=True)\n",
    "    if response.status_code == 200:\n",
    "        with open(filename, 'wb') as file:\n",
    "            for chunk in response.iter_content(chunk_size=1024):\n",
    "                file.write(chunk)\n",
    "                print(f'Downloaded: {filename}')\n",
    "    else:\n",
    "        print(f'Failed to download {filename}')\n",
    "\n",
    "for year, url in urls.items():\n",
    "    download_zip(url, f\"{year}-citibike-tripdata.zip\")\"\"\""
   ]
  },
  {
   "cell_type": "code",
   "execution_count": 52,
   "id": "a0bdc8b8-cac8-469d-90b9-29bb0a90e766",
   "metadata": {},
   "outputs": [
    {
     "name": "stdout",
     "output_type": "stream",
     "text": [
      "Files in 2016-citibike-tripdata.zip:\n",
      "2016-citibike-tripdata/\n",
      "2016-citibike-tripdata/4_April/\n",
      "2016-citibike-tripdata/12_December/\n",
      "2016-citibike-tripdata/.DS_Store\n",
      "__MACOSX/2016-citibike-tripdata/._.DS_Store\n",
      "2016-citibike-tripdata/11_November/\n",
      "2016-citibike-tripdata/7_July/\n",
      "2016-citibike-tripdata/10_October/\n",
      "2016-citibike-tripdata/9_September/\n",
      "2016-citibike-tripdata/8_August/\n",
      "2016-citibike-tripdata/6_June/\n",
      "2016-citibike-tripdata/3_March/\n",
      "2016-citibike-tripdata/1_January/\n",
      "2016-citibike-tripdata/2_February/\n",
      "2016-citibike-tripdata/5_May/\n",
      "2016-citibike-tripdata/4_April/201604-citibike-tripdata_1.csv\n",
      "2016-citibike-tripdata/4_April/201604-citibike-tripdata_2.csv\n",
      "2016-citibike-tripdata/12_December/201612-citibike-tripdata_1.csv\n",
      "2016-citibike-tripdata/11_November/201611-citibike-tripdata_2.csv\n",
      "2016-citibike-tripdata/11_November/201611-citibike-tripdata_1.csv\n",
      "2016-citibike-tripdata/7_July/201607-citibike-tripdata_2.csv\n",
      "2016-citibike-tripdata/7_July/201607-citibike-tripdata_1.csv\n",
      "2016-citibike-tripdata/10_October/201610-citibike-tripdata_1.csv\n",
      "2016-citibike-tripdata/10_October/201610-citibike-tripdata_2.csv\n",
      "2016-citibike-tripdata/9_September/201609-citibike-tripdata_1.csv\n",
      "2016-citibike-tripdata/9_September/201609-citibike-tripdata_2.csv\n",
      "2016-citibike-tripdata/8_August/201608-citibike-tripdata_2.csv\n",
      "2016-citibike-tripdata/8_August/201608-citibike-tripdata_1.csv\n",
      "2016-citibike-tripdata/6_June/201606-citibike-tripdata_1.csv\n",
      "2016-citibike-tripdata/6_June/201606-citibike-tripdata_2.csv\n",
      "2016-citibike-tripdata/3_March/201603-citibike-tripdata_1.csv\n",
      "2016-citibike-tripdata/1_January/201601-citibike-tripdata_1.csv\n",
      "2016-citibike-tripdata/2_February/201602-citibike-tripdata_1.csv\n",
      "2016-citibike-tripdata/5_May/201605-citibike-tripdata_2.csv\n",
      "2016-citibike-tripdata/5_May/201605-citibike-tripdata_1.csv\n",
      "--------------------\n"
     ]
    }
   ],
   "source": [
    "# Function to list the files inside the ZIP file without extracting them\n",
    "def list_files_in_zip(zip_filename):\n",
    "    with zipfile.ZipFile(zip_filename, 'r') as zip_ref:\n",
    "        # List all the contents in the ZIP file\n",
    "        file_list = zip_ref.namelist()\n",
    "        return file_list\n",
    "\n",
    "zip_files = [\"2016-citibike-tripdata.zip\"]\n",
    "\n",
    "# Iterate over the ZIP files and print the file names inside\n",
    "for zip_filename in zip_files:\n",
    "    print(f\"Files in {zip_filename}:\")\n",
    "    file_names = list_files_in_zip(zip_filename)\n",
    "    for file_name in file_names:\n",
    "        print(file_name)\n",
    "    print('--------------------')  "
   ]
  },
  {
   "cell_type": "code",
   "execution_count": 53,
   "id": "0e0a6a7b-c223-4c5e-b8ca-4779a0450389",
   "metadata": {},
   "outputs": [],
   "source": [
    "#### There are two CSV files in June 2016 directory. These file will be merged and saved as CSV for further clean up"
   ]
  },
  {
   "cell_type": "code",
   "execution_count": 54,
   "id": "fc7aaff7-5535-4073-a8d7-9591d56bdeb5",
   "metadata": {},
   "outputs": [
    {
     "name": "stdout",
     "output_type": "stream",
     "text": [
      "   tripduration          starttime           stoptime  start station id  \\\n",
      "0          1470  6/1/2016 00:00:18  6/1/2016 00:24:48               380   \n",
      "1           229  6/1/2016 00:00:20  6/1/2016 00:04:09              3092   \n",
      "2           344  6/1/2016 00:00:21  6/1/2016 00:06:06               449   \n",
      "3          1120  6/1/2016 00:00:28  6/1/2016 00:19:09               522   \n",
      "4           229  6/1/2016 00:00:53  6/1/2016 00:04:42               335   \n",
      "\n",
      "         start station name  start station latitude  start station longitude  \\\n",
      "0          W 4 St & 7 Ave S               40.734011               -74.002939   \n",
      "1         Berry St & N 8 St               40.719009               -73.958525   \n",
      "2           W 52 St & 9 Ave               40.764618               -73.987895   \n",
      "3   E 51 St & Lexington Ave               40.757148               -73.972078   \n",
      "4  Washington Pl & Broadway               40.729039               -73.994046   \n",
      "\n",
      "   end station id         end station name  end station latitude  \\\n",
      "0            3236       W 42 St & Dyer Ave             40.758985   \n",
      "1            3103      N 11 St & Wythe Ave             40.721533   \n",
      "2             469       Broadway & W 53 St             40.763441   \n",
      "3             401  Allen St & Rivington St             40.720196   \n",
      "4             285       Broadway & E 14 St             40.734546   \n",
      "\n",
      "   end station longitude  bikeid    usertype  birth year  gender  \n",
      "0             -73.993800   19859  Subscriber      1972.0       1  \n",
      "1             -73.957824   16233  Subscriber      1967.0       1  \n",
      "2             -73.982681   22397  Subscriber      1989.0       1  \n",
      "3             -73.989978   16231  Subscriber      1991.0       1  \n",
      "4             -73.990741   15400  Subscriber      1989.0       1  \n"
     ]
    }
   ],
   "source": [
    "# Merge the 2019 June csv files \n",
    "zip_file = \"2016-citibike-tripdata.zip\"\n",
    "csv_files_2016 = {\n",
    "    \"2016_1\": \"2016-citibike-tripdata/6_June/201606-citibike-tripdata_1.csv\",\n",
    "    \"2016_2\": \"2016-citibike-tripdata/6_June/201606-citibike-tripdata_2.csv\"\n",
    "}\n",
    "\n",
    "# Function to extract and read CSV file from ZIP\n",
    "def read_csv_from_zip(zip_filename, csv_filename):\n",
    "    with zipfile.ZipFile(zip_filename, 'r') as zip_ref:\n",
    "        with zip_ref.open(csv_filename) as file:\n",
    "            return pd.read_csv(file)\n",
    "\n",
    "# Read CSV files and store them in a list\n",
    "dfs_june_2016 = []\n",
    "for key, csv_file in csv_files_2016.items():\n",
    "    df = read_csv_from_zip(zip_file, csv_file)\n",
    "    dfs_june_2016.append(df)\n",
    "\n",
    "# Concatenate all DataFrames into one\n",
    "june_merged_df_2016 = pd.concat(dfs_june_2016, ignore_index=True)\n",
    "\n",
    "# Save the merged DataFrame to a CSV file\n",
    "june_merged_df_2016.to_csv(\"2019_citibike_june_tripdata_merged.csv\", index=False)\n",
    "\n",
    "# Check the first few rows of the merged DataFrame\n",
    "print(june_merged_df_2016.head())"
   ]
  },
  {
   "cell_type": "markdown",
   "id": "5970c75c-fd1f-4314-8974-24d764b99d84",
   "metadata": {},
   "source": [
    "# Data Integrity"
   ]
  },
  {
   "cell_type": "markdown",
   "id": "fd63fbc8-0192-40cc-b216-2edb4b19cecd",
   "metadata": {},
   "source": [
    "#### Data integrity is being assessed by checking for null values in all columns.The June 2013 dataset was dropped as a key analytical column contained more than 40% null values, which would significantly impact results."
   ]
  },
  {
   "cell_type": "code",
   "execution_count": 57,
   "id": "0fb99f9b-6bf2-49b6-8f66-86d6c29ca6fe",
   "metadata": {},
   "outputs": [
    {
     "name": "stdout",
     "output_type": "stream",
     "text": [
      "tripduration                0.000000\n",
      "starttime                   0.000000\n",
      "stoptime                    0.000000\n",
      "start station id            0.000000\n",
      "start station name          0.000000\n",
      "start station latitude      0.000000\n",
      "start station longitude     0.000000\n",
      "end station id              0.000000\n",
      "end station name            0.000000\n",
      "end station latitude        0.000000\n",
      "end station longitude       0.000000\n",
      "bikeid                      0.000000\n",
      "usertype                    0.000000\n",
      "birth year                 13.367362\n",
      "gender                      0.000000\n",
      "dtype: float64\n"
     ]
    }
   ],
   "source": [
    "null_percentage = june_merged_df_2016.isnull().mean() * 100\n",
    "print(null_percentage)"
   ]
  },
  {
   "cell_type": "code",
   "execution_count": 59,
   "id": "8af36575-ddf5-495d-8f38-d36d7a85319a",
   "metadata": {},
   "outputs": [
    {
     "name": "stdout",
     "output_type": "stream",
     "text": [
      "Empty DataFrame\n",
      "Columns: [tripduration, starttime, stoptime, start station id, start station name, start station latitude, start station longitude, end station id, end station name, end station latitude, end station longitude, bikeid, usertype, birth year, gender]\n",
      "Index: []\n",
      "Empty DataFrame\n",
      "Columns: [tripduration, starttime, stoptime, start station id, start station name, start station latitude, start station longitude, end station id, end station name, end station latitude, end station longitude, bikeid, usertype, birth year, gender]\n",
      "Index: []\n"
     ]
    }
   ],
   "source": [
    "# Checking for Duplicates \n",
    "duplicates = june_merged_df_2016[june_merged_df_2016.duplicated()]\n",
    "print(duplicates)\n",
    "duplicates = june_merged_df_2019[june_merged_df_2019.duplicated()]\n",
    "print(duplicates)"
   ]
  },
  {
   "cell_type": "code",
   "execution_count": 62,
   "id": "84fd19c6-7023-40e9-b09f-33cd311fe630",
   "metadata": {},
   "outputs": [
    {
     "data": {
      "text/plain": [
       "<bound method DataFrame.info of          tripduration           starttime            stoptime  \\\n",
       "0                1470   6/1/2016 00:00:18   6/1/2016 00:24:48   \n",
       "1                 229   6/1/2016 00:00:20   6/1/2016 00:04:09   \n",
       "2                 344   6/1/2016 00:00:21   6/1/2016 00:06:06   \n",
       "3                1120   6/1/2016 00:00:28   6/1/2016 00:19:09   \n",
       "4                 229   6/1/2016 00:00:53   6/1/2016 00:04:42   \n",
       "...               ...                 ...                 ...   \n",
       "1460313          1078  6/30/2016 18:18:19  6/30/2016 18:36:17   \n",
       "1460314          1154  6/30/2016 18:18:58  6/30/2016 18:38:13   \n",
       "1460315          2326  6/29/2016 10:58:40  6/29/2016 11:37:27   \n",
       "1460316          1464  6/30/2016 20:47:04  6/30/2016 21:11:29   \n",
       "1460317          2854  6/29/2016 11:44:24  6/29/2016 12:31:59   \n",
       "\n",
       "         start station id        start station name  start station latitude  \\\n",
       "0                     380          W 4 St & 7 Ave S               40.734011   \n",
       "1                    3092         Berry St & N 8 St               40.719009   \n",
       "2                     449           W 52 St & 9 Ave               40.764618   \n",
       "3                     522   E 51 St & Lexington Ave               40.757148   \n",
       "4                     335  Washington Pl & Broadway               40.729039   \n",
       "...                   ...                       ...                     ...   \n",
       "1460313              2000  Front St & Washington St               40.702551   \n",
       "1460314              2000  Front St & Washington St               40.702551   \n",
       "1460315               387   Centre St & Chambers St               40.712733   \n",
       "1460316               525          W 34 St & 11 Ave               40.755942   \n",
       "1460317               348    W Broadway & Spring St               40.724910   \n",
       "\n",
       "         start station longitude  end station id         end station name  \\\n",
       "0                     -74.002939            3236       W 42 St & Dyer Ave   \n",
       "1                     -73.958525            3103      N 11 St & Wythe Ave   \n",
       "2                     -73.987895             469       Broadway & W 53 St   \n",
       "3                     -73.972078             401  Allen St & Rivington St   \n",
       "4                     -73.994046             285       Broadway & E 14 St   \n",
       "...                          ...             ...                      ...   \n",
       "1460313               -73.989402             355    Bayard St & Baxter St   \n",
       "1460314               -73.989402             312    Allen St & Stanton St   \n",
       "1460315               -74.004607             392         Jay St & Tech Pl   \n",
       "1460316               -74.002116             507          E 25 St & 2 Ave   \n",
       "1460317               -74.001547             225  W 14 St & The High Line   \n",
       "\n",
       "         end station latitude  end station longitude  bikeid    usertype  \\\n",
       "0                   40.758985             -73.993800   19859  Subscriber   \n",
       "1                   40.721533             -73.957824   16233  Subscriber   \n",
       "2                   40.763441             -73.982681   22397  Subscriber   \n",
       "3                   40.720196             -73.989978   16231  Subscriber   \n",
       "4                   40.734546             -73.990741   15400  Subscriber   \n",
       "...                       ...                    ...     ...         ...   \n",
       "1460313             40.716021             -73.999744   18165  Subscriber   \n",
       "1460314             40.722055             -73.989111   21176    Customer   \n",
       "1460315             40.695065             -73.987167   25040    Customer   \n",
       "1460316             40.739126             -73.979738   16549    Customer   \n",
       "1460317             40.741951             -74.008030   18360  Subscriber   \n",
       "\n",
       "         birth year  gender  \n",
       "0            1972.0       1  \n",
       "1            1967.0       1  \n",
       "2            1989.0       1  \n",
       "3            1991.0       1  \n",
       "4            1989.0       1  \n",
       "...             ...     ...  \n",
       "1460313      1968.0       1  \n",
       "1460314         NaN       0  \n",
       "1460315         NaN       0  \n",
       "1460316         NaN       0  \n",
       "1460317      1963.0       2  \n",
       "\n",
       "[1460318 rows x 15 columns]>"
      ]
     },
     "execution_count": 62,
     "metadata": {},
     "output_type": "execute_result"
    }
   ],
   "source": [
    "# Checking Data Types\n",
    "june_merged_df_2016.info\n",
    "june_merged_df_2019.info"
   ]
  },
  {
   "cell_type": "code",
   "execution_count": 63,
   "id": "ce22c737-0bc1-4a28-b6c9-59c90eda22c7",
   "metadata": {},
   "outputs": [
    {
     "data": {
      "text/plain": [
       "<bound method DataFrame.info of          tripduration                 starttime                  stoptime  \\\n",
       "0                 330  2019-06-01 00:00:01.5000  2019-06-01 00:05:31.7600   \n",
       "1                 830  2019-06-01 00:00:04.2400  2019-06-01 00:13:55.1470   \n",
       "2                 380  2019-06-01 00:00:06.0190  2019-06-01 00:06:26.7790   \n",
       "3                1155  2019-06-01 00:00:06.7760  2019-06-01 00:19:22.5380   \n",
       "4                1055  2019-06-01 00:00:07.5200  2019-06-01 00:17:42.5580   \n",
       "...               ...                       ...                       ...   \n",
       "2125365           232  2019-06-30 23:59:32.8920  2019-07-01 00:03:25.6310   \n",
       "2125366           477  2019-06-30 23:59:33.6990  2019-07-01 00:07:31.0440   \n",
       "2125367           300  2019-06-30 23:59:47.4050  2019-07-01 00:04:48.1850   \n",
       "2125368           906  2019-06-30 23:59:51.5980  2019-07-01 00:14:58.3210   \n",
       "2125369          1270  2019-06-30 23:59:54.3670  2019-07-01 00:21:05.2750   \n",
       "\n",
       "         start station id              start station name  \\\n",
       "0                    3602                  31 Ave & 34 St   \n",
       "1                    3054         Greene Ave & Throop Ave   \n",
       "2                     229                  Great Jones St   \n",
       "3                    3771         McKibbin St & Bogart St   \n",
       "4                     441                 E 52 St & 2 Ave   \n",
       "...                   ...                             ...   \n",
       "2125365              3113  Greenpoint Ave & Manhattan Ave   \n",
       "2125366               445              E 10 St & Avenue A   \n",
       "2125367              3307          West End Ave & W 94 St   \n",
       "2125368               402              Broadway & E 22 St   \n",
       "2125369              3788                  E 12 St & 4 Av   \n",
       "\n",
       "         start station latitude  start station longitude  end station id  \\\n",
       "0                     40.763154               -73.920827            3570   \n",
       "1                     40.689493               -73.942061            3781   \n",
       "2                     40.727434               -73.993790             326   \n",
       "3                     40.706237               -73.933871            3016   \n",
       "4                     40.756014               -73.967416            3159   \n",
       "...                         ...                      ...             ...   \n",
       "2125365               40.730260               -73.953940            3107   \n",
       "2125366               40.727408               -73.981420            3737   \n",
       "2125367               40.794165               -73.974124            3320   \n",
       "2125368               40.740343               -73.989551             400   \n",
       "2125369               40.732690               -73.989740             326   \n",
       "\n",
       "                     end station name  end station latitude  \\\n",
       "0                      35 Ave & 37 St             40.755733   \n",
       "1               Greene Av & Myrtle Av             40.698568   \n",
       "2                     E 11 St & 1 Ave             40.729538   \n",
       "3                   Kent Ave & N 7 St             40.720368   \n",
       "4                  W 67 St & Broadway             40.774925   \n",
       "...                               ...                   ...   \n",
       "2125365      Bedford Ave & Nassau Ave             40.723117   \n",
       "2125366       Stanton St & Norfolk St             40.720747   \n",
       "2125367  Central Park West & W 100 St             40.794067   \n",
       "2125368          Pitt St & Stanton St             40.719261   \n",
       "2125369               E 11 St & 1 Ave             40.729538   \n",
       "\n",
       "         end station longitude  bikeid    usertype  birth year  gender  \n",
       "0                   -73.923661   20348  Subscriber        1992       1  \n",
       "1                   -73.918877   34007  Subscriber        1987       2  \n",
       "2                   -73.984267   20587  Subscriber        1990       2  \n",
       "3                   -73.961651   33762  Subscriber        1987       1  \n",
       "4                   -73.982666   31290  Subscriber        1973       1  \n",
       "...                        ...     ...         ...         ...     ...  \n",
       "2125365             -73.952123   25779  Subscriber        1972       1  \n",
       "2125366             -73.986274   39522  Subscriber        1981       2  \n",
       "2125367             -73.962868   26730  Subscriber        1981       1  \n",
       "2125368             -73.981780   38286  Subscriber        1996       1  \n",
       "2125369             -73.984267   38742  Subscriber        1967       1  \n",
       "\n",
       "[2125370 rows x 15 columns]>"
      ]
     },
     "execution_count": 63,
     "metadata": {},
     "output_type": "execute_result"
    }
   ],
   "source": [
    "june_merged_df_2019.info"
   ]
  },
  {
   "cell_type": "code",
   "execution_count": null,
   "id": "a4e97a15-6bda-4a7a-8a4c-c4fc06f41dfd",
   "metadata": {},
   "outputs": [],
   "source": []
  }
 ],
 "metadata": {
  "kernelspec": {
   "display_name": "Python 3 (ipykernel)",
   "language": "python",
   "name": "python3"
  },
  "language_info": {
   "codemirror_mode": {
    "name": "ipython",
    "version": 3
   },
   "file_extension": ".py",
   "mimetype": "text/x-python",
   "name": "python",
   "nbconvert_exporter": "python",
   "pygments_lexer": "ipython3",
   "version": "3.12.4"
  }
 },
 "nbformat": 4,
 "nbformat_minor": 5
}
